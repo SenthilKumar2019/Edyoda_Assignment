{
  "nbformat": 4,
  "nbformat_minor": 0,
  "metadata": {
    "colab": {
      "name": "Untitled5.ipynb",
      "provenance": [],
      "collapsed_sections": [],
      "authorship_tag": "ABX9TyPbAD5Q5IqqALuScF8kvEI0"
    },
    "kernelspec": {
      "name": "python3",
      "display_name": "Python 3"
    },
    "language_info": {
      "name": "python"
    }
  },
  "cells": [
    {
      "cell_type": "markdown",
      "source": [
        "Summing the values by Function"
      ],
      "metadata": {
        "id": "14gniqo3_vcI"
      }
    },
    {
      "cell_type": "markdown",
      "source": [
        "\n",
        "Write a Python function to sum all the numbers in a list.\n",
        "\n",
        "Sample List : (8, 2, 3, 0, 7)\n",
        "Expected Output : 20\n",
        "\n",
        "Explanation:\n",
        "\n",
        "Summation should like 8+2+3+0+7 = 20"
      ],
      "metadata": {
        "id": "VL01Q8kM_v3-"
      }
    },
    {
      "cell_type": "code",
      "source": [
        "\n",
        "l=[]\n",
        "s=0\n",
        "length=int(input(\"Enter no of values:\"))          #Getting no of values in a list\n",
        "for i in range(1,length+1):\n",
        "    number=int(input(f\"Enter the no {i} :\"))      #Getting values\n",
        "    l.append(number)                              #Creating list\n",
        "def sum1(a):                                      #Defining sum function\n",
        "      global s\n",
        "      s=s+a\n",
        "for i in l:                                       #sending every value in list\n",
        "    sum1(i)                   \n",
        "print(\"List given is:\",l)                         #Printing list and its sum\n",
        "print(\"sum is:\",s)"
      ],
      "metadata": {
        "colab": {
          "base_uri": "https://localhost:8080/"
        },
        "id": "cTOzvxs3_wNZ",
        "outputId": "47540251-f5fd-4645-d6f5-9b138c508bec"
      },
      "execution_count": null,
      "outputs": [
        {
          "output_type": "stream",
          "name": "stdout",
          "text": [
            "Enter no of values:5\n",
            "Enter the no 1 :8\n",
            "Enter the no 2 :4\n",
            "Enter the no 3 :3\n",
            "Enter the no 4 :6\n",
            "Enter the no 5 :1\n",
            "List given is: [8, 4, 3, 6, 1]\n",
            "sum is: 22\n"
          ]
        }
      ]
    }
  ]
}