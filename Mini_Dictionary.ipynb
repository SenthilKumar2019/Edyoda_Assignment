{
  "nbformat": 4,
  "nbformat_minor": 0,
  "metadata": {
    "colab": {
      "name": "Mini Dictionary.ipynb",
      "provenance": [],
      "collapsed_sections": []
    },
    "kernelspec": {
      "name": "python3",
      "display_name": "Python 3"
    },
    "language_info": {
      "name": "python"
    }
  },
  "cells": [
    {
      "cell_type": "markdown",
      "source": [
        "**Mini Dictionary**\n",
        "\n",
        "\n",
        "\n"
      ],
      "metadata": {
        "id": "4yht6u0mYf2D"
      }
    },
    {
      "cell_type": "markdown",
      "source": [
        "Write a Python program to print a dictionary whose keys should be the alphabet from a-z and the value should be corresponding ASCII values\n",
        "\n",
        "\n",
        "\n",
        "Sample Output : {'a': 97, 'b': 98, 'c': 99, 'd': 100, 'e': 101, 'f': 102, 'g': 103, 'h': 104, 'i': 105, 'j': 106, 'k': 107, 'l': 108, 'm': 109, 'n': 110, 'o': 111, 'p': 112, 'q': 113, 'r': 114, 's': 115, 't': 116, 'u': 117, 'v': 118, 'w': 119, 'x': 120, 'y': 121, 'z': 122}\n",
        "\n"
      ],
      "metadata": {
        "id": "wQqVXfUTYgEP"
      }
    },
    {
      "cell_type": "code",
      "source": [
        "d={}                                   #Empty dictionary\n",
        "j=ord(\"a\")\n",
        "for i in range(ord('a'),ord('z')+1):   #sequencing from a to z\n",
        "   d.update({chr(j):ord(chr(j))})      #Creating dictionary   \n",
        "   j+=1 \n",
        "print(\"Dictionary of ASCII:-\",d,end=\"\")  "
      ],
      "metadata": {
        "id": "pWxlULSRYhdh"
      },
      "execution_count": null,
      "outputs": []
    },
    {
      "cell_type": "code",
      "source": [
        ""
      ],
      "metadata": {
        "id": "bM-M7jDHYq_J"
      },
      "execution_count": null,
      "outputs": []
    }
  ]
}