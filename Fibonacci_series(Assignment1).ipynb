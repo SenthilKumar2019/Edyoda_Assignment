{
  "nbformat": 4,
  "nbformat_minor": 0,
  "metadata": {
    "colab": {
      "name": "Fibonacci series(Assignment1).ipynb",
      "provenance": [],
      "collapsed_sections": []
    },
    "kernelspec": {
      "name": "python3",
      "display_name": "Python 3"
    },
    "language_info": {
      "name": "python"
    }
  },
  "cells": [
    {
      "cell_type": "markdown",
      "source": [
        "**Python Program for Fibonacci Series**"
      ],
      "metadata": {
        "id": "nURjLNeuwKIY"
      }
    },
    {
      "cell_type": "markdown",
      "source": [
        "Write a Python program to get the Fibonacci series between 0 to 50\n",
        "\n",
        "\n",
        "\n",
        "Note : The Fibonacci Sequence is the series of numbers :\n",
        "\n",
        "0, 1, 1, 2, 3, 5, 8, 13, 21, ....\n",
        "\n",
        "Every next number is found by adding up the two numbers before it.\n",
        "\n",
        "Expected Output : 1 1 2 3 5 8 13 21 34\n",
        "\n"
      ],
      "metadata": {
        "id": "r-nSxIgIwwRm"
      }
    },
    {
      "cell_type": "code",
      "source": [
        "boundary=int(input(\"Enter the boundary:\")) #Getting boundary of the series from the user\n",
        "a=[]\n",
        "for i in range(0,50):               #Arbitrary range\n",
        "        if i<=1: \n",
        "            a.append(i)             #Adding series to an empty list \n",
        "            print(a[i])\n",
        "        else: \n",
        "            e=a[i-2]+a[i-1]\n",
        "            a.append(e)\n",
        "            print(a[i]) \n",
        "            if boundary<=int(a[i]+a[i-1]): #checking series value  doesnot exceed boundary   \n",
        "               break"
      ],
      "metadata": {
        "id": "j6qL046Fw2_u"
      },
      "execution_count": null,
      "outputs": []
    },
    {
      "cell_type": "code",
      "source": [
        ""
      ],
      "metadata": {
        "id": "YoCBEu25xtEe"
      },
      "execution_count": 8,
      "outputs": []
    }
  ]
}