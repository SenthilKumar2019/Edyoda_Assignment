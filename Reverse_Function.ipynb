{
  "nbformat": 4,
  "nbformat_minor": 0,
  "metadata": {
    "colab": {
      "name": "Reverse-Function.ipynb",
      "provenance": [],
      "collapsed_sections": [],
      "authorship_tag": "ABX9TyM6A1GG6l2pzkRC4qoBuBCf"
    },
    "kernelspec": {
      "name": "python3",
      "display_name": "Python 3"
    },
    "language_info": {
      "name": "python"
    }
  },
  "cells": [
    {
      "cell_type": "markdown",
      "source": [
        "Reverse a string by Function"
      ],
      "metadata": {
        "id": "BR3eufBUyhCb"
      }
    },
    {
      "cell_type": "markdown",
      "source": [
        "\n",
        "Write a Python program to reverse a string.\n",
        "\n",
        "Sample String : \"1234abcd\"\n",
        "\n",
        "Expected Output : \"dcba4321"
      ],
      "metadata": {
        "id": "0aq2TnOeyheO"
      }
    },
    {
      "cell_type": "code",
      "source": [
        "\n",
        "string=input(\"Enter string:\")                      #Getting string\n",
        "def reverse(a):\n",
        "     return a[-1::-1]                              #Slicing method from end\n",
        "print(f\"Reverse of the string:{reverse(string)}\")"
      ],
      "metadata": {
        "colab": {
          "base_uri": "https://localhost:8080/"
        },
        "id": "5KgJbNIgyhzZ",
        "outputId": "73b89061-bab6-4690-b13e-e43c6d6aa9f6"
      },
      "execution_count": 3,
      "outputs": [
        {
          "output_type": "stream",
          "name": "stdout",
          "text": [
            "Enter string:Edyoda\n",
            "Reverse of the string:adoydE\n"
          ]
        }
      ]
    }
  ]
}