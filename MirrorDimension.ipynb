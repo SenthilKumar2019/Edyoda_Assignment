{
  "nbformat": 4,
  "nbformat_minor": 0,
  "metadata": {
    "colab": {
      "name": "MirrorDimension.ipynb",
      "provenance": [],
      "collapsed_sections": []
    },
    "kernelspec": {
      "name": "python3",
      "display_name": "Python 3"
    },
    "language_info": {
      "name": "python"
    }
  },
  "cells": [
    {
      "cell_type": "markdown",
      "source": [
        ""
      ],
      "metadata": {
        "id": "QJTENCxk3EAp"
      }
    },
    {
      "cell_type": "markdown",
      "source": [
        "**Python Program for Mirror Dimension**"
      ],
      "metadata": {
        "id": "HAww7Ect15Zi"
      }
    },
    {
      "cell_type": "markdown",
      "source": [
        "Write a Python program that accepts a word from the user and reverse it.\n",
        "\n",
        "\n",
        "\n",
        "Sample Test Case\n",
        "\n",
        "\n",
        "\n",
        "Input : Edyoda\n",
        "\n",
        "output: adoydE"
      ],
      "metadata": {
        "id": "a6FduH1I2EBp"
      }
    },
    {
      "cell_type": "code",
      "source": [
        "a=input(\"Enter the word:\")   #Getting word from the user\n",
        "k=0\n",
        "for i in a:\n",
        "    j=k-1                   \n",
        "    k-=1                      #Accessing list from the end\n",
        "    print(a[j])"
      ],
      "metadata": {
        "id": "oG6fDABC2H-7"
      },
      "execution_count": null,
      "outputs": []
    }
  ]
}