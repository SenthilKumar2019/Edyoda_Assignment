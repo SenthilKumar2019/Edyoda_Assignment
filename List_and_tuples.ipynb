{
  "nbformat": 4,
  "nbformat_minor": 0,
  "metadata": {
    "colab": {
      "name": "List and tuples.ipynb",
      "provenance": [],
      "collapsed_sections": []
    },
    "kernelspec": {
      "name": "python3",
      "display_name": "Python 3"
    },
    "language_info": {
      "name": "python"
    }
  },
  "cells": [
    {
      "cell_type": "markdown",
      "source": [
        "**List and tuples**"
      ],
      "metadata": {
        "id": "wxqHX5lNUwh1"
      }
    },
    {
      "cell_type": "markdown",
      "source": [
        "Write a Python program to get a list, sorted in increasing order by the last element in each tuple from a given list of non-empty tuples\n",
        "\n",
        "\n",
        "\n",
        "Sample List : [(2, 5), (1, 2), (4, 4), (2, 3), (2, 1)]\n",
        "\n",
        "Expected Result : [(2, 1), (1, 2), (2, 3), (4, 4), (2, 5)]"
      ],
      "metadata": {
        "id": "_4_UPOUnVAf4"
      }
    },
    {
      "cell_type": "code",
      "source": [
        "list_one=[(2, 5), (1, 2), (4, 4), (2, 3), (2, 1)]\n",
        "list_two=[]\n",
        "list_three=[]\n",
        "for i in range(0,len(list_one)):\n",
        "     list_two.append(list_one[i][1])               #Adding tuple elements to be sorted into new list \n",
        "list_two.sort()                                    #Sorting new list\n",
        "for i in list_two:\n",
        "      for j in range(0,len(list_one)):             \n",
        "            if i==list_one[j][1]:                  #Checking element in new and old list     \n",
        "                list_three.append(list_one[j])\n",
        "print(\"Given list:\",list_one)                                    #Printing Given list and sorted list\n",
        "print(\"Sorted list:\",list_three)"
      ],
      "metadata": {
        "colab": {
          "base_uri": "https://localhost:8080/"
        },
        "id": "Zm0p77gPUyHr",
        "outputId": "d32fae3d-3f76-47f2-f3ff-1f5d5fc50d37"
      },
      "execution_count": 2,
      "outputs": [
        {
          "output_type": "stream",
          "name": "stdout",
          "text": [
            "Given list: [(2, 5), (1, 2), (4, 4), (2, 3), (2, 1)]\n",
            "Sorted list: [(2, 1), (1, 2), (2, 3), (4, 4), (2, 5)]\n"
          ]
        }
      ]
    },
    {
      "cell_type": "code",
      "source": [
        ""
      ],
      "metadata": {
        "id": "XEap0rT5V4da"
      },
      "execution_count": null,
      "outputs": []
    }
  ]
}