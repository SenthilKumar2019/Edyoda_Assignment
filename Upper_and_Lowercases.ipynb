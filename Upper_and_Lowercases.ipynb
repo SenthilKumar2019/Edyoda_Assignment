{
  "nbformat": 4,
  "nbformat_minor": 0,
  "metadata": {
    "colab": {
      "name": "Upper and Lowercases.ipynb",
      "provenance": [],
      "collapsed_sections": [],
      "authorship_tag": "ABX9TyP8j+6ycG3zdTrDXZ/VcGJZ"
    },
    "kernelspec": {
      "name": "python3",
      "display_name": "Python 3"
    },
    "language_info": {
      "name": "python"
    }
  },
  "cells": [
    {
      "cell_type": "markdown",
      "source": [
        "Uppercase and Lower case"
      ],
      "metadata": {
        "id": "MPmDZxZBrkPC"
      }
    },
    {
      "cell_type": "markdown",
      "source": [
        "\n",
        "Write a Python function that accepts a string and calculate the number of upper case letters and lower case letters.\n",
        "\n",
        "﻿Sample String : 'The quick Brow Fox'\n",
        "Expected Output :\n",
        "No. of Upper case characters : 3\n",
        "No. of Lower case Characters : 12"
      ],
      "metadata": {
        "id": "AgokQbqPrklU"
      }
    },
    {
      "cell_type": "code",
      "source": [
        "sentence=input(\"Enter the string:  \")               #Getting string\n",
        "def upper():                                        #Upper case function\n",
        "   count_up=0\n",
        "   u=range(ord('A'),ord('Z')+1)\n",
        "   for i in sentence:                               #Checking every letter in string\n",
        "       if ord(i) in u:\n",
        "          count_up+=1\n",
        "   return count_up    \n",
        "def lower():                                        #Function for lowercase\n",
        "   count_low=0\n",
        "   l=range(ord('a'),ord('z')+1)\n",
        "   for j in sentence: \n",
        "       if ord(j) in l:\n",
        "          count_low+=1\n",
        "   return count_low\n",
        "print(f\"No of Uppercase:{upper()}\")                 #Printing no of uppercase and lower case letters\n",
        "print(f\"No of Lowercase:{lower()}\")"
      ],
      "metadata": {
        "colab": {
          "base_uri": "https://localhost:8080/"
        },
        "id": "xU4_0tTDrlDe",
        "outputId": "a3cbd7ed-fb22-42b2-d7c7-5b43d7418895"
      },
      "execution_count": 2,
      "outputs": [
        {
          "output_type": "stream",
          "name": "stdout",
          "text": [
            "Enter the string:  GifhcFhh\n",
            "No of Uppercase:2\n",
            "No of Lowercase:6\n"
          ]
        }
      ]
    }
  ]
}