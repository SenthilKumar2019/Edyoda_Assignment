{
  "nbformat": 4,
  "nbformat_minor": 0,
  "metadata": {
    "colab": {
      "name": "Simplelambda.ipynb",
      "provenance": [],
      "collapsed_sections": [],
      "authorship_tag": "ABX9TyOiClhy84BsE+pf28AIQhg/"
    },
    "kernelspec": {
      "name": "python3",
      "display_name": "Python 3"
    },
    "language_info": {
      "name": "python"
    }
  },
  "cells": [
    {
      "cell_type": "markdown",
      "source": [
        "**Play with Lamda**"
      ],
      "metadata": {
        "id": "gxjRDMqqoxvZ"
      }
    },
    {
      "cell_type": "markdown",
      "source": [
        "Write a Python program to create a lambda function that adds 25 to a given number passed in as an argument.\n",
        "\n",
        "\n",
        "\n",
        "sample input: 10\n",
        "\n",
        "sample output: 35"
      ],
      "metadata": {
        "id": "hvahwXWnox8b"
      }
    },
    {
      "cell_type": "code",
      "source": [
        "x=int(input(\"Enter the no:\"))\n",
        "print(f\"Output:{(lambda x:x+25)(x)}\")"
      ],
      "metadata": {
        "colab": {
          "base_uri": "https://localhost:8080/"
        },
        "id": "dzIoLfEho2hz",
        "outputId": "86ea4091-3549-4377-9c63-84d2c6ab3f02"
      },
      "execution_count": 1,
      "outputs": [
        {
          "output_type": "stream",
          "name": "stdout",
          "text": [
            "Enter the no:0\n",
            "Output:25\n"
          ]
        }
      ]
    }
  ]
}