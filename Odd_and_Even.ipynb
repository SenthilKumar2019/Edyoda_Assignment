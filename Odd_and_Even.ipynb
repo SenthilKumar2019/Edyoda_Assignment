{
  "nbformat": 4,
  "nbformat_minor": 0,
  "metadata": {
    "colab": {
      "name": "Odd and Even.ipynb",
      "provenance": [],
      "collapsed_sections": []
    },
    "kernelspec": {
      "name": "python3",
      "display_name": "Python 3"
    },
    "language_info": {
      "name": "python"
    }
  },
  "cells": [
    {
      "cell_type": "markdown",
      "source": [
        "**Python Program for counting Odd and Even numbers**"
      ],
      "metadata": {
        "id": "mTxT1pku5Tm_"
      }
    },
    {
      "cell_type": "markdown",
      "source": [
        "Write a Python program to count the number of even and odd numbers from a series of numbers.\n",
        "\n",
        "\n",
        "\n",
        "Sample numbers : numbers = (1, 2, 3, 4, 5, 6, 7, 8, 9) \n",
        "\n",
        "Expected Output :\n",
        "\n",
        "Number of even numbers : 5\n",
        "\n",
        "Number of odd numbers : 4\n",
        "\n"
      ],
      "metadata": {
        "id": "p5z5mXHW623k"
      }
    },
    {
      "cell_type": "code",
      "source": [
        "no_items=int(input(\"Enter no of items:\"))     #Getting no of items in the series\n",
        "series=[]\n",
        "while len(series)<no_items:                   \n",
        "    series.append(int(input()))               #Adding each number to the series(empty space not allowed)\n",
        "print(series)  \n",
        "q=0\n",
        "r=0\n",
        "for num in series:                             \n",
        "    if num%2==0:                              #Checking Odd or Even number \n",
        "      q=q+1\n",
        "    else:\n",
        "      r=r+1\n",
        "print(\"Even number count:\",q)                  #Printing No of Odd and Even numbers\n",
        "print(\"Odd number count :\",r)  \n",
        "       "
      ],
      "metadata": {
        "colab": {
          "base_uri": "https://localhost:8080/"
        },
        "id": "XUymfEXD5nK8",
        "outputId": "b712ee4c-fe68-469b-9bb7-4d12036dcb0c"
      },
      "execution_count": 1,
      "outputs": [
        {
          "output_type": "stream",
          "name": "stdout",
          "text": [
            "Enter no of items:5\n",
            "11\n",
            "13\n",
            "18\n",
            "23\n",
            "51\n",
            "[11, 13, 18, 23, 51]\n",
            "Even number count: 1\n",
            "Odd number count : 4\n"
          ]
        }
      ]
    }
  ]
}